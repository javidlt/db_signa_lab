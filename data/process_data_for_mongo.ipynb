{
 "cells": [
  {
   "cell_type": "markdown",
   "metadata": {},
   "source": []
  },
  {
   "cell_type": "code",
   "execution_count": 1,
   "metadata": {},
   "outputs": [],
   "source": [
    "import pandas as pd"
   ]
  },
  {
   "cell_type": "code",
   "execution_count": 21,
   "metadata": {},
   "outputs": [],
   "source": [
    "import pandas as pd\n",
    "import json\n",
    "\n",
    "# Load the JSON data\n",
    "with open('data/data.json', 'r') as file:\n",
    "    data = json.load(file)\n",
    "\n",
    "usuarios = []\n",
    "for i in range(len(data)):\n",
    "    usuarios.extend(data[i]['includes']['users'])\n",
    "\n",
    "\n",
    "# Display the DataFrame\n",
    "data_embedded = pd.read_json('data/data_with_embeddings_reduced.json')\n",
    "users = pd.DataFrame(usuarios)"
   ]
  },
  {
   "cell_type": "code",
   "execution_count": 25,
   "metadata": {},
   "outputs": [
    {
     "data": {
      "text/plain": [
       "(2567, 20)"
      ]
     },
     "execution_count": 25,
     "metadata": {},
     "output_type": "execute_result"
    }
   ],
   "source": [
    "data_embedded.shape"
   ]
  },
  {
   "cell_type": "code",
   "execution_count": 29,
   "metadata": {},
   "outputs": [
    {
     "data": {
      "text/html": [
       "<div>\n",
       "<style scoped>\n",
       "    .dataframe tbody tr th:only-of-type {\n",
       "        vertical-align: middle;\n",
       "    }\n",
       "\n",
       "    .dataframe tbody tr th {\n",
       "        vertical-align: top;\n",
       "    }\n",
       "\n",
       "    .dataframe thead th {\n",
       "        text-align: right;\n",
       "    }\n",
       "</style>\n",
       "<table border=\"1\" class=\"dataframe\">\n",
       "  <thead>\n",
       "    <tr style=\"text-align: right;\">\n",
       "      <th></th>\n",
       "      <th>created_at</th>\n",
       "      <th>name</th>\n",
       "      <th>id</th>\n",
       "      <th>public_metrics</th>\n",
       "      <th>username</th>\n",
       "      <th>location</th>\n",
       "    </tr>\n",
       "  </thead>\n",
       "  <tbody>\n",
       "    <tr>\n",
       "      <th>0</th>\n",
       "      <td>2014-08-23T12:24:19.000Z</td>\n",
       "      <td>alex turner</td>\n",
       "      <td>2758643852</td>\n",
       "      <td>{'followers_count': 0, 'following_count': 0, '...</td>\n",
       "      <td>alexturneround</td>\n",
       "      <td>NaN</td>\n",
       "    </tr>\n",
       "    <tr>\n",
       "      <th>1</th>\n",
       "      <td>2012-03-09T00:42:44.000Z</td>\n",
       "      <td>xeu news</td>\n",
       "      <td>519034121</td>\n",
       "      <td>{'followers_count': 9964, 'following_count': 2...</td>\n",
       "      <td>xeuradio</td>\n",
       "      <td>Veracruz, México</td>\n",
       "    </tr>\n",
       "    <tr>\n",
       "      <th>2</th>\n",
       "      <td>2011-03-03T17:51:59.000Z</td>\n",
       "      <td>Francisca Meza</td>\n",
       "      <td>260338618</td>\n",
       "      <td>{'followers_count': 1711, 'following_count': 1...</td>\n",
       "      <td>Pacameza</td>\n",
       "      <td>Acapulrock!</td>\n",
       "    </tr>\n",
       "    <tr>\n",
       "      <th>3</th>\n",
       "      <td>2009-12-18T03:45:58.000Z</td>\n",
       "      <td>Zviperco #𝔏𝔦𝔤𝔞𝔇𝔢𝔊𝔲𝔢𝔯𝔯𝔢𝔯𝔬𝔰</td>\n",
       "      <td>97590560</td>\n",
       "      <td>{'followers_count': 10142, 'following_count': ...</td>\n",
       "      <td>zviperco</td>\n",
       "      <td>NaN</td>\n",
       "    </tr>\n",
       "    <tr>\n",
       "      <th>4</th>\n",
       "      <td>2014-07-11T03:26:54.000Z</td>\n",
       "      <td>Andrei Renteria</td>\n",
       "      <td>2616631861</td>\n",
       "      <td>{'followers_count': 3813, 'following_count': 3...</td>\n",
       "      <td>AndreiRenteria</td>\n",
       "      <td>NaN</td>\n",
       "    </tr>\n",
       "    <tr>\n",
       "      <th>...</th>\n",
       "      <td>...</td>\n",
       "      <td>...</td>\n",
       "      <td>...</td>\n",
       "      <td>...</td>\n",
       "      <td>...</td>\n",
       "      <td>...</td>\n",
       "    </tr>\n",
       "    <tr>\n",
       "      <th>1703</th>\n",
       "      <td>2011-03-04T15:39:40.000Z</td>\n",
       "      <td>Ofertas de Trabajo</td>\n",
       "      <td>260776231</td>\n",
       "      <td>{'followers_count': 16812, 'following_count': ...</td>\n",
       "      <td>123trabajo</td>\n",
       "      <td>espana,mexico,argentina,chile</td>\n",
       "    </tr>\n",
       "    <tr>\n",
       "      <th>1704</th>\n",
       "      <td>2009-12-28T18:45:09.000Z</td>\n",
       "      <td>Edil Amores</td>\n",
       "      <td>100018386</td>\n",
       "      <td>{'followers_count': 242, 'following_count': 81...</td>\n",
       "      <td>edilamores</td>\n",
       "      <td>16.832671,-99.778653</td>\n",
       "    </tr>\n",
       "    <tr>\n",
       "      <th>1705</th>\n",
       "      <td>2011-07-31T07:25:00.000Z</td>\n",
       "      <td>Estefany Hernandez</td>\n",
       "      <td>345831800</td>\n",
       "      <td>{'followers_count': 754, 'following_count': 22...</td>\n",
       "      <td>TefiiHdz</td>\n",
       "      <td>NaN</td>\n",
       "    </tr>\n",
       "    <tr>\n",
       "      <th>1706</th>\n",
       "      <td>2009-09-22T02:58:30.000Z</td>\n",
       "      <td>El Piñero| Periodismo y Debate</td>\n",
       "      <td>76232882</td>\n",
       "      <td>{'followers_count': 42427, 'following_count': ...</td>\n",
       "      <td>ELPINERO</td>\n",
       "      <td>San Juan Bautista Tuxtepec, Oa</td>\n",
       "    </tr>\n",
       "    <tr>\n",
       "      <th>1707</th>\n",
       "      <td>2012-08-23T04:45:31.000Z</td>\n",
       "      <td>Eusevia Meza</td>\n",
       "      <td>775178780</td>\n",
       "      <td>{'followers_count': 52, 'following_count': 222...</td>\n",
       "      <td>Ecmeza67</td>\n",
       "      <td>Hayward</td>\n",
       "    </tr>\n",
       "  </tbody>\n",
       "</table>\n",
       "<p>1708 rows × 6 columns</p>\n",
       "</div>"
      ],
      "text/plain": [
       "                    created_at                            name          id  \\\n",
       "0     2014-08-23T12:24:19.000Z                     alex turner  2758643852   \n",
       "1     2012-03-09T00:42:44.000Z                        xeu news   519034121   \n",
       "2     2011-03-03T17:51:59.000Z                  Francisca Meza   260338618   \n",
       "3     2009-12-18T03:45:58.000Z       Zviperco #𝔏𝔦𝔤𝔞𝔇𝔢𝔊𝔲𝔢𝔯𝔯𝔢𝔯𝔬𝔰    97590560   \n",
       "4     2014-07-11T03:26:54.000Z                 Andrei Renteria  2616631861   \n",
       "...                        ...                             ...         ...   \n",
       "1703  2011-03-04T15:39:40.000Z              Ofertas de Trabajo   260776231   \n",
       "1704  2009-12-28T18:45:09.000Z                     Edil Amores   100018386   \n",
       "1705  2011-07-31T07:25:00.000Z              Estefany Hernandez   345831800   \n",
       "1706  2009-09-22T02:58:30.000Z  El Piñero| Periodismo y Debate    76232882   \n",
       "1707  2012-08-23T04:45:31.000Z                    Eusevia Meza   775178780   \n",
       "\n",
       "                                         public_metrics        username  \\\n",
       "0     {'followers_count': 0, 'following_count': 0, '...  alexturneround   \n",
       "1     {'followers_count': 9964, 'following_count': 2...        xeuradio   \n",
       "2     {'followers_count': 1711, 'following_count': 1...        Pacameza   \n",
       "3     {'followers_count': 10142, 'following_count': ...        zviperco   \n",
       "4     {'followers_count': 3813, 'following_count': 3...  AndreiRenteria   \n",
       "...                                                 ...             ...   \n",
       "1703  {'followers_count': 16812, 'following_count': ...      123trabajo   \n",
       "1704  {'followers_count': 242, 'following_count': 81...      edilamores   \n",
       "1705  {'followers_count': 754, 'following_count': 22...        TefiiHdz   \n",
       "1706  {'followers_count': 42427, 'following_count': ...        ELPINERO   \n",
       "1707  {'followers_count': 52, 'following_count': 222...        Ecmeza67   \n",
       "\n",
       "                            location  \n",
       "0                                NaN  \n",
       "1                   Veracruz, México  \n",
       "2                        Acapulrock!  \n",
       "3                                NaN  \n",
       "4                                NaN  \n",
       "...                              ...  \n",
       "1703   espana,mexico,argentina,chile  \n",
       "1704            16.832671,-99.778653  \n",
       "1705                             NaN  \n",
       "1706  San Juan Bautista Tuxtepec, Oa  \n",
       "1707                         Hayward  \n",
       "\n",
       "[1708 rows x 6 columns]"
      ]
     },
     "execution_count": 29,
     "metadata": {},
     "output_type": "execute_result"
    }
   ],
   "source": [
    "users"
   ]
  },
  {
   "cell_type": "code",
   "execution_count": 28,
   "metadata": {},
   "outputs": [
    {
     "name": "stdout",
     "output_type": "stream",
     "text": [
      "Index(['created_at', 'name', 'id', 'public_metrics', 'username', 'location'], dtype='object')\n",
      "Index(['text', 'id', 'created_at', 'source', 'retweet_count', 'reply_count',\n",
      "       'like_count', 'quote_count', 'author_id', 'user_name', 'user_username',\n",
      "       'user_created_at', 'user_followers_count', 'user_tweet_count',\n",
      "       'hashtags', 'mentions', 'urls', 'sentiment', 'Embedding',\n",
      "       'embeddingsReducidos'],\n",
      "      dtype='object')\n"
     ]
    }
   ],
   "source": [
    "print(users.columns)\n",
    "print(data_embedded.columns)"
   ]
  },
  {
   "cell_type": "code",
   "execution_count": 27,
   "metadata": {},
   "outputs": [],
   "source": [
    "data_embedded.to_json('data/data_mongo_tweets.json', orient='records')\n",
    "users.to_json('data/data_mongo_users.json', orient='records')"
   ]
  }
 ],
 "metadata": {
  "kernelspec": {
   "display_name": "Python 3",
   "language": "python",
   "name": "python3"
  },
  "language_info": {
   "codemirror_mode": {
    "name": "ipython",
    "version": 3
   },
   "file_extension": ".py",
   "mimetype": "text/x-python",
   "name": "python",
   "nbconvert_exporter": "python",
   "pygments_lexer": "ipython3",
   "version": "3.11.0"
  }
 },
 "nbformat": 4,
 "nbformat_minor": 2
}
